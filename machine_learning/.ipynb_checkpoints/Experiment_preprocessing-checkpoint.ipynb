{
 "cells": [
  {
   "cell_type": "code",
   "execution_count": 1,
   "id": "9d28e493-e0de-4bc8-96dc-77cd0a1f89b3",
   "metadata": {
    "tags": []
   },
   "outputs": [],
   "source": [
    "import pandas as pd\n",
    "import numpy as np\n",
    "from numpy import save\n",
    "import torch\n",
    "from torch import nn\n",
    "import copy\n",
    "import torch.optim as optim\n",
    "import tqdm\n",
    "\n",
    "from sklearn.preprocessing import OneHotEncoder\n",
    "from sklearn.impute import SimpleImputer\n",
    "from sklearn.model_selection import StratifiedKFold"
   ]
  },
  {
   "cell_type": "code",
   "execution_count": 2,
   "id": "087d5ef1-c581-45f5-b114-4700e625d444",
   "metadata": {
    "tags": []
   },
   "outputs": [],
   "source": [
    "df = pd.read_csv(\"raw_data.csv\")"
   ]
  },
  {
   "cell_type": "code",
   "execution_count": 3,
   "id": "d8544b64-cc18-421a-983a-8665d7043cab",
   "metadata": {},
   "outputs": [],
   "source": [
    "df.dropna(subset=['RainTomorrow'], inplace=True)"
   ]
  },
  {
   "cell_type": "code",
   "execution_count": 4,
   "id": "eebb0135-4e4b-4d6c-90ef-34d61729f20b",
   "metadata": {
    "tags": []
   },
   "outputs": [],
   "source": [
    "df[\"TodayRain\"] = pd.Series(np.where(df.RainToday.values == 'Yes', 1, 0),df.index)"
   ]
  },
  {
   "cell_type": "code",
   "execution_count": 5,
   "id": "e6298c66-5a17-4bab-8e23-d767bff8ac73",
   "metadata": {
    "tags": []
   },
   "outputs": [],
   "source": [
    "df[\"target\"] = pd.Series(np.where(df.RainTomorrow.values == 'Yes', 1, 0),df.index)"
   ]
  },
  {
   "cell_type": "code",
   "execution_count": 6,
   "id": "b7e66ca4-3791-4119-9747-f0354968f33d",
   "metadata": {
    "tags": []
   },
   "outputs": [],
   "source": [
    "df[\"Timestamp\"] = pd.to_datetime(df.Date)"
   ]
  },
  {
   "cell_type": "code",
   "execution_count": 7,
   "id": "e4bb94db-3061-4006-bfcc-bfb514874b88",
   "metadata": {
    "tags": []
   },
   "outputs": [],
   "source": [
    "df[\"year\"] = df.Timestamp.dt.year\n",
    "df[\"month\"] = df.Timestamp.dt.month\n",
    "df[\"dayofyear\"] = df.Timestamp.dt.dayofyear\n",
    "df[\"weekofyear\"] = df.Timestamp.dt.isocalendar().week"
   ]
  },
  {
   "cell_type": "code",
   "execution_count": 8,
   "id": "3413fd3c-f5ff-45e7-a29a-c4220ef434b8",
   "metadata": {
    "tags": []
   },
   "outputs": [],
   "source": [
    "df = df.drop(columns=[\"RainToday\", \"RainTomorrow\", \"Date\", \"Timestamp\"])"
   ]
  },
  {
   "cell_type": "code",
   "execution_count": 9,
   "id": "db258854-ddb0-444a-843e-d63ea0d0e68f",
   "metadata": {
    "tags": []
   },
   "outputs": [
    {
     "name": "stdout",
     "output_type": "stream",
     "text": [
      "142193\n"
     ]
    }
   ],
   "source": [
    "temp = df.copy()\n",
    "print(len(df))\n",
    "for cat_col in df.columns:\n",
    "    if df[f\"{cat_col}\"].dtype == \"object\":\n",
    "        encoder = OneHotEncoder()\n",
    "        one_hot_array = encoder.fit_transform(temp[[f'{cat_col}']]).toarray()\n",
    "\n",
    "        # create new dataframe from numpy array\n",
    "        one_hot_df = pd.DataFrame(one_hot_array, columns=encoder.get_feature_names_out())\n",
    "\n",
    "        df = pd.concat([df, one_hot_df], ignore_index=False, sort=False, axis=1)\n",
    "        df = df.reindex(temp.index)\n",
    "        df = df.drop(columns=[f\"{cat_col}\"])"
   ]
  },
  {
   "cell_type": "code",
   "execution_count": 10,
   "id": "48e59b67-b73e-4aa2-a14a-a73cf40e2d42",
   "metadata": {
    "tags": []
   },
   "outputs": [],
   "source": [
    "imp_mean = SimpleImputer(missing_values=np.nan, strategy='mean')\n",
    "df = pd.DataFrame(imp_mean.fit_transform(df), columns = df.columns)"
   ]
  },
  {
   "cell_type": "code",
   "execution_count": 11,
   "id": "e8d61c63-2162-4453-891c-eca774802cee",
   "metadata": {
    "tags": []
   },
   "outputs": [],
   "source": [
    "df = df.sample(frac=1)"
   ]
  },
  {
   "cell_type": "code",
   "execution_count": 12,
   "id": "e4a6c571-5ba7-4cc0-852e-35192d98bf8a",
   "metadata": {
    "tags": []
   },
   "outputs": [],
   "source": [
    "X = df.drop(columns=[\"target\"])"
   ]
  },
  {
   "cell_type": "code",
   "execution_count": 13,
   "id": "545b2912-8c37-43c8-a349-71a4b10b923c",
   "metadata": {
    "tags": []
   },
   "outputs": [],
   "source": [
    "y = df[\"target\"]"
   ]
  },
  {
   "cell_type": "code",
   "execution_count": 14,
   "id": "1a645ff2-adce-4882-a15e-4b868f0a0e62",
   "metadata": {},
   "outputs": [],
   "source": [
    "data_folder = \"./data/\""
   ]
  },
  {
   "cell_type": "code",
   "execution_count": 15,
   "id": "d2bf10a5-4fcf-4d41-b757-8c35183a4624",
   "metadata": {},
   "outputs": [],
   "source": [
    "save(f\"{data_folder}X.npy\", X)\n",
    "save(f\"{data_folder}y.npy\", y)"
   ]
  },
  {
   "cell_type": "code",
   "execution_count": null,
   "id": "36886abc-adbd-4b2f-8619-a73956cd8b72",
   "metadata": {},
   "outputs": [],
   "source": []
  },
  {
   "cell_type": "code",
   "execution_count": 24,
   "id": "f418833e-252a-4fb4-9e05-637c3ca6954f",
   "metadata": {
    "tags": []
   },
   "outputs": [],
   "source": [
    "from numpy import load"
   ]
  },
  {
   "cell_type": "code",
   "execution_count": 25,
   "id": "ef2606b5-1c82-4c96-9c47-8351458987fb",
   "metadata": {
    "tags": []
   },
   "outputs": [],
   "source": [
    "X = load(f\"{data_folder}X.npy\")\n",
    "y = load(f\"{data_folder}y.npy\")"
   ]
  },
  {
   "cell_type": "code",
   "execution_count": 32,
   "id": "1a76570c-a148-416e-a5c2-46ef3beb5d21",
   "metadata": {
    "tags": []
   },
   "outputs": [],
   "source": [
    "X = pd.DataFrame(X)\n",
    "y = pd.DataFrame(y)"
   ]
  },
  {
   "cell_type": "code",
   "execution_count": 16,
   "id": "e4e25693-ee93-489e-91e6-630198901647",
   "metadata": {},
   "outputs": [
    {
     "data": {
      "text/plain": [
       "'cuda'"
      ]
     },
     "execution_count": 16,
     "metadata": {},
     "output_type": "execute_result"
    }
   ],
   "source": [
    "# Make device agnostic code\n",
    "device = \"cuda\" if torch.cuda.is_available() else \"cpu\"\n",
    "device"
   ]
  },
  {
   "cell_type": "code",
   "execution_count": 17,
   "id": "5fc20565-7ce7-4046-af0e-a965144c9a12",
   "metadata": {
    "tags": []
   },
   "outputs": [],
   "source": [
    "class Wide(nn.Module):\n",
    "    def __init__(self):\n",
    "        super().__init__()\n",
    "        self.hidden = nn.Linear(121, 363)\n",
    "        self.relu = nn.ReLU()\n",
    "        self.output = nn.Linear(363, 1)\n",
    "        self.sigmoid = nn.Sigmoid()\n",
    "\n",
    "    def forward(self, x):\n",
    "        x = self.relu(self.hidden(x))\n",
    "        x = self.sigmoid(self.output(x))\n",
    "        return x"
   ]
  },
  {
   "cell_type": "code",
   "execution_count": 18,
   "id": "043da336-4919-4b60-b926-152c70bf15cd",
   "metadata": {
    "tags": []
   },
   "outputs": [],
   "source": [
    "class Deep(nn.Module):\n",
    "    def __init__(self):\n",
    "        super().__init__()\n",
    "        self.layer1 = nn.Linear(121, 121)\n",
    "        self.act1 = nn.ReLU()\n",
    "        self.layer2 = nn.Linear(121, 121)\n",
    "        self.act2 = nn.ReLU()\n",
    "        self.layer3 = nn.Linear(121, 121)\n",
    "        self.act3 = nn.ReLU()\n",
    "        self.output = nn.Linear(121, 1)\n",
    "        self.sigmoid = nn.Sigmoid()\n",
    "\n",
    "    def forward(self, x):\n",
    "        x = self.act1(self.layer1(x))\n",
    "        x = self.act2(self.layer2(x))\n",
    "        x = self.act3(self.layer3(x))\n",
    "        x = self.sigmoid(self.output(x))\n",
    "        return x"
   ]
  },
  {
   "cell_type": "code",
   "execution_count": 19,
   "id": "6ed715e1-3dea-4748-b673-a48c1fa1d2fc",
   "metadata": {
    "tags": []
   },
   "outputs": [],
   "source": [
    "def model_train(model, X_train, y_train, X_val, y_val):\n",
    "    model.cuda()\n",
    "    \n",
    "    # loss function and optimizer\n",
    "    loss_fn = nn.BCELoss()  # binary cross entropy\n",
    "    optimizer = optim.Adam(model.parameters(), lr=0.0001)\n",
    "\n",
    "    n_epochs = 50   # number of epochs to run\n",
    "    batch_size = 200  # size of each batch\n",
    "    batch_start = torch.arange(0, len(X_train), batch_size)\n",
    "\n",
    "    # Hold the best model\n",
    "    best_acc = - np.inf   # init to negative infinity\n",
    "    best_weights = None\n",
    "\n",
    "    for epoch in range(n_epochs):\n",
    "        model.train()\n",
    "        with tqdm.tqdm(batch_start, unit=\"batch\", mininterval=0, disable=True) as bar:\n",
    "            bar.set_description(f\"Epoch {epoch}\")\n",
    "            for start in bar:\n",
    "                # take a batch\n",
    "                X_batch = X_train[start:start+batch_size]\n",
    "                y_batch = y_train[start:start+batch_size]\n",
    "                # forward pass\n",
    "                y_pred = model(X_batch)\n",
    "                loss = loss_fn(y_pred, y_batch)\n",
    "                # backward pass\n",
    "                optimizer.zero_grad()\n",
    "                loss.backward()\n",
    "                # update weights\n",
    "                optimizer.step()\n",
    "                # print progress\n",
    "                acc = (y_pred.round() == y_batch).float().mean()\n",
    "                bar.set_postfix(\n",
    "                    loss=float(loss),\n",
    "                    acc=float(acc)\n",
    "                )\n",
    "        # evaluate accuracy at end of each epoch\n",
    "        model.eval()\n",
    "        y_pred = model(X_val)\n",
    "        acc = (y_pred.round() == y_val).float().mean()\n",
    "        acc = float(acc)\n",
    "        if epoch % 10==0:\n",
    "            print(f\"Acc is {acc}\")\n",
    "        if acc > best_acc:\n",
    "            best_acc = acc\n",
    "            best_weights = copy.deepcopy(model.state_dict())\n",
    "    # restore model and return best accuracy\n",
    "    model.load_state_dict(best_weights)\n",
    "    return best_acc"
   ]
  },
  {
   "cell_type": "code",
   "execution_count": null,
   "id": "144714bc-ca09-4765-9b0a-e296979d3b39",
   "metadata": {},
   "outputs": [
    {
     "name": "stdout",
     "output_type": "stream",
     "text": [
      "Split 0\n",
      "Acc is 0.8323428630828857\n"
     ]
    }
   ],
   "source": [
    "sss = StratifiedKFold(n_splits=5, random_state=None, shuffle=False)\n",
    "counter = 0\n",
    "\n",
    "for train_index, test_index in sss.split(X, y):\n",
    "    Xtrain = X.iloc[train_index]\n",
    "    Xtest = X.iloc[test_index]\n",
    "    ytrain = y.iloc[train_index]\n",
    "    ytest = y.iloc[test_index]\n",
    "\n",
    "    X_train_tensor = torch.tensor(Xtrain.values, dtype=torch.float32).to(device)\n",
    "    y_train_tensor = torch.tensor(ytrain.values, dtype=torch.float32).to(device).reshape(-1,1)\n",
    "    X_test_tensor = torch.tensor(Xtest.values, dtype=torch.float32).to(device)\n",
    "    y_test_tensor = torch.tensor(ytest.values, dtype=torch.float32).to(device).reshape(-1, 1)\n",
    "\n",
    "    print(f\"Split {counter}\")\n",
    "\n",
    "    model_w = Wide()\n",
    "    acc = model_train(model_w, X_train_tensor, y_train_tensor, X_test_tensor, y_test_tensor)\n",
    "    print(\"Accuracy (wide): %.2f\" % acc)\n",
    "\n",
    "    model_d = Deep()\n",
    "    acc = model_train(model_d, X_train_tensor, y_train_tensor, X_test_tensor, y_test_tensor)\n",
    "    print(\"Accuracy (wide): %.2f\" % acc)"
   ]
  },
  {
   "cell_type": "code",
   "execution_count": null,
   "id": "c3663462-1223-46cb-aea2-b3f55f9fd7a4",
   "metadata": {},
   "outputs": [],
   "source": []
  },
  {
   "cell_type": "code",
   "execution_count": null,
   "id": "3a736069-c6dc-4d00-b653-f5d1e68bc231",
   "metadata": {},
   "outputs": [],
   "source": []
  },
  {
   "cell_type": "code",
   "execution_count": null,
   "id": "a6fa434c-7046-46f6-a9b7-e7fe40c40cc4",
   "metadata": {},
   "outputs": [],
   "source": []
  },
  {
   "cell_type": "code",
   "execution_count": null,
   "id": "6b517c56-4c2b-467f-8872-1dfd97e1cdfc",
   "metadata": {},
   "outputs": [],
   "source": []
  },
  {
   "cell_type": "code",
   "execution_count": null,
   "id": "8d945b4b-aebc-4f59-a152-a37e16f1fd9c",
   "metadata": {},
   "outputs": [],
   "source": []
  },
  {
   "cell_type": "code",
   "execution_count": null,
   "id": "4654001c-85a2-4cb7-9d25-03e927499f0a",
   "metadata": {},
   "outputs": [],
   "source": []
  },
  {
   "cell_type": "code",
   "execution_count": null,
   "id": "b8f6d684-e791-41d2-9419-0a709900dd6a",
   "metadata": {},
   "outputs": [],
   "source": []
  },
  {
   "cell_type": "code",
   "execution_count": null,
   "id": "afbe2be3-f61b-4a95-8f7a-059b0a4c35af",
   "metadata": {},
   "outputs": [],
   "source": []
  },
  {
   "cell_type": "code",
   "execution_count": null,
   "id": "b04d2936-862d-4d52-9a9d-754b74914d7e",
   "metadata": {},
   "outputs": [],
   "source": []
  },
  {
   "cell_type": "code",
   "execution_count": null,
   "id": "fc5b8909-d729-48ca-ac00-3b9ebb7d3ac8",
   "metadata": {},
   "outputs": [],
   "source": []
  },
  {
   "cell_type": "code",
   "execution_count": null,
   "id": "f5c228d4-8304-4021-91b8-5034ada68c7c",
   "metadata": {},
   "outputs": [],
   "source": []
  },
  {
   "cell_type": "code",
   "execution_count": null,
   "id": "2ecc9de5-f8d9-4557-9198-a8f352a494dc",
   "metadata": {},
   "outputs": [],
   "source": []
  },
  {
   "cell_type": "code",
   "execution_count": null,
   "id": "995b8758-dab3-412a-bdd4-653f320a1427",
   "metadata": {},
   "outputs": [],
   "source": []
  },
  {
   "cell_type": "code",
   "execution_count": null,
   "id": "6e895357-04ee-4520-87fe-1c444a2c7518",
   "metadata": {},
   "outputs": [],
   "source": []
  },
  {
   "cell_type": "code",
   "execution_count": null,
   "id": "cf0fb423-976e-499d-865b-dbdf68dc09d2",
   "metadata": {},
   "outputs": [],
   "source": []
  }
 ],
 "metadata": {
  "kernelspec": {
   "display_name": "Python 3.9",
   "language": "python",
   "name": "python3"
  },
  "language_info": {
   "codemirror_mode": {
    "name": "ipython",
    "version": 3
   },
   "file_extension": ".py",
   "mimetype": "text/x-python",
   "name": "python",
   "nbconvert_exporter": "python",
   "pygments_lexer": "ipython3",
   "version": "3.9.18"
  }
 },
 "nbformat": 4,
 "nbformat_minor": 5
}
